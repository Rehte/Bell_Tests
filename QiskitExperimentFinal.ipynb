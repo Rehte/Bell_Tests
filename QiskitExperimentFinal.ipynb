{
 "cells": [
  {
   "cell_type": "code",
   "execution_count": 41,
   "metadata": {},
   "outputs": [],
   "source": [
    "# Qiskit 라이브러리 불러오기\n",
    "import qiskit\n",
    "from qiskit import QuantumCircuit, ClassicalRegister, QuantumRegister, transpile, Aer, IBMQ\n",
    "from qiskit.providers.aer import QasmSimulator\n",
    "from qiskit.tools.visualization import circuit_drawer\n",
    "from qiskit.tools.monitor import job_monitor, backend_monitor, backend_overview\n",
    "from qiskit.providers.aer import noise\n",
    "from qiskit.visualization import plot_histogram\n",
    "\n",
    "# 기타 라이브러리 불러오기\n",
    "import numpy as np\n",
    "import matplotlib.pyplot as plt\n",
    "from math import pi\n",
    "import time"
   ]
  },
  {
   "cell_type": "markdown",
   "metadata": {},
   "source": [
    "# Bell Test on IBMQ"
   ]
  },
  {
   "cell_type": "code",
   "execution_count": 42,
   "metadata": {},
   "outputs": [
    {
     "name": "stderr",
     "output_type": "stream",
     "text": [
      "ibmqfactory.load_account:WARNING:2021-11-26 14:41:26,637: Credentials are already in use. The existing account in the session will be replaced.\n"
     ]
    }
   ],
   "source": [
    "'''\n",
    "# Quantum Experience에서 양자 컴퓨터를 불러오기\n",
    "IBMQ.load_account()\n",
    "provider = IBMQ.get_provider('ibm-q')\n",
    "lima = provider.get_backend('ibmq_lima')\n",
    "'''\n",
    "\n",
    "# 양자 시뮬레이터 로드\n",
    "simulator = QasmSimulator()"
   ]
  },
  {
   "cell_type": "code",
   "execution_count": 43,
   "metadata": {},
   "outputs": [
    {
     "name": "stdout",
     "output_type": "stream",
     "text": [
      "60\n"
     ]
    }
   ],
   "source": [
    "# 벨의 부등식 시험을 위한 양자 회로 제작하기\n",
    "\n",
    "circuits = []\n",
    "theta_arr = np.linspace(0,pi*2,20)\n",
    "\n",
    "for theta in theta_arr:\n",
    "    # A, B 측정 양자 회로\n",
    "    circuit = QuantumCircuit(2, 2)\n",
    "\n",
    "    circuit.h(0)\n",
    "    circuit.cx(0, 1)\n",
    "\n",
    "    circuit.ry(theta, 1)\n",
    "\n",
    "    circuit.measure([0,1], [0, 1])\n",
    "\n",
    "    circuits.append(circuit)\n",
    "\n",
    "    # A, C 측정 양자 회로\n",
    "    circuit = QuantumCircuit(2, 2)\n",
    "\n",
    "    circuit.h(0)\n",
    "    circuit.cx(0, 1)\n",
    "\n",
    "    circuit.ry(-theta, 1)\n",
    "\n",
    "    circuit.measure([0,1], [0, 1])\n",
    "\n",
    "    circuits.append(circuit)\n",
    "\n",
    "    # B, C 측정 양자 회로\n",
    "    circuit = QuantumCircuit(2, 2)\n",
    "\n",
    "    circuit.h(0)\n",
    "    circuit.cx(0, 1)\n",
    "\n",
    "    circuit.ry(theta, 0)\n",
    "    circuit.ry(-theta, 1)\n",
    "\n",
    "    circuit.measure([0,1], [0, 1])\n",
    "\n",
    "    circuits.append(circuit)"
   ]
  },
  {
   "cell_type": "code",
   "execution_count": 44,
   "metadata": {},
   "outputs": [],
   "source": [
    "# 양자 시뮬레이터로 시험하기\n",
    "result_ideal = simulator.run(circuits).result()"
   ]
  },
  {
   "cell_type": "code",
   "execution_count": 43,
   "metadata": {},
   "outputs": [
    {
     "name": "stdout",
     "output_type": "stream",
     "text": [
      "Job Status: job has successfully run\n"
     ]
    }
   ],
   "source": [
    "'''\n",
    "# Quantum Experience에서 양자 컴퓨터로 시험하기\n",
    "transpiled_circuits = transpile(circuits, lima)\n",
    "job_real = lima.run(transpiled_circuits, shots=1024)\n",
    "job_monitor(job_real)\n",
    "result_real = job_real.result()\n",
    "'''"
   ]
  },
  {
   "cell_type": "code",
   "execution_count": 46,
   "metadata": {},
   "outputs": [],
   "source": [
    "# 양자 시뮬레이터 계산 결과를 확률로 반환하는 함수\n",
    "def getProbability(result):\n",
    "    res = []\n",
    "    for i in range(20):\n",
    "        temp = 0\n",
    "        for j in range(i*3, i*3+3):\n",
    "            temp += result[j].get('11', 0)\n",
    "            temp += result[j].get('00', 0)\n",
    "        temp /= 3*1024\n",
    "        res.append(temp)\n",
    "\n",
    "    return res"
   ]
  },
  {
   "cell_type": "code",
   "execution_count": 52,
   "metadata": {},
   "outputs": [
    {
     "data": {
      "image/png": "[encoded data removed]",
      "text/plain": [
       "<Figure size 432x288 with 1 Axes>"
      ]
     },
     "metadata": {
      "needs_background": "light"
     },
     "output_type": "display_data"
    }
   ],
   "source": [
    "# 숨은 변수 이론에 따른 확률의 하한\n",
    "plt.axhline(y=1/3, color='r', linestyle=':')\n",
    "plt.annotate(\"Classical Lower Bound\", (1-0.4, 1/3+0.03))\n",
    "\n",
    "# 양자역학에 따른 이론적 확률 그래프\n",
    "theta_arr = np.linspace(0, 2*pi, 100)\n",
    "plt.plot(theta_arr/pi, (np.cos(theta_arr/2)**2*2+np.cos(theta_arr)**2)/3, '--k', label = \"Theory\")\n",
    "\n",
    "# 시뮬레이션에 따른 확률 그래프\n",
    "theta_arr = np.linspace(0, 2*pi, 20)\n",
    "plt.plot(theta_arr/pi, getProbability(result_ideal.get_counts()), 'g', label = \"Simuation\")\n",
    "\n",
    "'''\n",
    "# 양자 컴퓨터로 수행한 롹률 그래프\n",
    "plt.plot(theta_arr/pi, getProbability(result_real.get_counts()), 'xb', label = \"Experiment\")\n",
    "'''\n",
    "\n",
    "plt.legend(loc=\"center\")\n",
    "plt.savefig(\"MyBellTest.svg\")\n",
    "plt.ylabel(\"Probabilty\")\n",
    "plt.xlabel(\"Theta\")\n",
    "plt.show()"
   ]
  },
  {
   "cell_type": "markdown",
   "metadata": {},
   "source": [
    "# CHSH test on IBMQ"
   ]
  },
  {
   "cell_type": "code",
   "execution_count": 55,
   "metadata": {},
   "outputs": [
    {
     "name": "stdout",
     "output_type": "stream",
     "text": [
      "80\n"
     ]
    }
   ],
   "source": [
    "circuits = []\n",
    "theta_arr = np.linspace(0,pi*2,20)\n",
    "\n",
    "for theta in theta_arr:\n",
    "    # A, B 측정 양자 회로\n",
    "    circuit = QuantumCircuit(2, 2)\n",
    "\n",
    "    circuit.h(0)\n",
    "    circuit.cx(0, 1)\n",
    "\n",
    "    circuit.ry(theta, 1)\n",
    "\n",
    "    circuit.measure([0,1], [0, 1])\n",
    "\n",
    "    circuits.append(circuit)\n",
    "\n",
    "    # A', B 측정 양자 회로\n",
    "    circuit = QuantumCircuit(2, 2)\n",
    "\n",
    "    circuit.h(0)\n",
    "    circuit.cx(0, 1)\n",
    "\n",
    "    circuit.ry(2*theta, 0)\n",
    "    circuit.ry(theta, 1)\n",
    "\n",
    "    circuit.measure([0,1], [0, 1])\n",
    "\n",
    "    circuits.append(circuit)\n",
    "\n",
    "    # A, B' 측정 양자 회로\n",
    "    circuit = QuantumCircuit(2, 2)\n",
    "\n",
    "    circuit.h(0)\n",
    "    circuit.cx(0, 1)\n",
    "\n",
    "    circuit.ry(3*theta, 1)\n",
    "\n",
    "    circuit.measure([0,1], [0, 1])\n",
    "\n",
    "    circuits.append(circuit)\n",
    "\n",
    "    # A', B' 측정 양자 회로\n",
    "    circuit = QuantumCircuit(2, 2)\n",
    "\n",
    "    circuit.h(0)\n",
    "    circuit.cx(0, 1)\n",
    "\n",
    "    circuit.ry(2*theta, 0)\n",
    "    circuit.ry(3*theta, 1)\n",
    "\n",
    "    circuit.measure([0,1], [0, 1])\n",
    "\n",
    "    circuits.append(circuit)"
   ]
  },
  {
   "cell_type": "code",
   "execution_count": 56,
   "metadata": {},
   "outputs": [],
   "source": [
    "# 양자 시뮬레이터로 시험하기\n",
    "result_ideal = simulator.run(circuits, shots=1024).result()"
   ]
  },
  {
   "cell_type": "code",
   "execution_count": 57,
   "metadata": {},
   "outputs": [],
   "source": [
    "'''\n",
    "# Quantum Experience에서 양자 컴퓨터로 시험하기\n",
    "transpiled_circuits = transpile(circuits, lima)\n",
    "job_real = lima.run(transpiled_circuits, shots=1024)\n",
    "job_monitor(job_real)\n",
    "result_real = job_real.result()\n",
    "'''"
   ]
  },
  {
   "cell_type": "code",
   "execution_count": 58,
   "metadata": {},
   "outputs": [],
   "source": [
    "\n",
    "# 양자 시뮬레이터 계산 결과를 상관계수로 반환하는 함수\n",
    "def getCorrelation(result):\n",
    "    temp = 0\n",
    "    temp += result.get('11', 0)\n",
    "    temp += result.get('00', 0)\n",
    "    temp -= result.get('01', 0)\n",
    "    temp -= result.get('10', 0)\n",
    "    return temp/1024\n",
    "\n",
    "\n",
    "# 양자 시뮬레이터 계산 결과를 S로 반환하는 함수\n",
    "def getS(result):\n",
    "    res = []\n",
    "    for i in range(20):\n",
    "        temp = 0\n",
    "        temp += getCorrelation(result[i*4])\n",
    "        temp += getCorrelation(result[i*4+1])\n",
    "        temp -= getCorrelation(result[i*4+2])\n",
    "        temp += getCorrelation(result[i*4+3])\n",
    "        res.append(temp)\n",
    "\n",
    "    return res"
   ]
  },
  {
   "cell_type": "code",
   "execution_count": 65,
   "metadata": {},
   "outputs": [
    {
     "data": {
      "image/png": "[encoded data removed]",
      "text/plain": [
       "<Figure size 432x288 with 1 Axes>"
      ]
     },
     "metadata": {
      "needs_background": "light"
     },
     "output_type": "display_data"
    }
   ],
   "source": [
    "# 숨은 변수 이론에 따른 S의 상한과 하한\n",
    "plt.axhline(y=2, color='r', linestyle=':')\n",
    "plt.annotate(\"Classical Upper Bound\", (1-.35, 2-0.4))\n",
    "plt.axhline(y=-2, color='r', linestyle=':')\n",
    "plt.annotate(\"Classical Lower Bound\", (1-.35, -2+0.4))\n",
    "\n",
    "# 양자역학에 따른 이론적 확률 그래프\n",
    "theta_arr = np.linspace(0, 2*pi, 100)\n",
    "f = lambda x : np.cos(x) - np.cos(3*x) + np.cos(-x) + np.cos(x)\n",
    "plt.plot(theta_arr/pi, f(theta_arr), '--k', label = \"Theory\")\n",
    "\n",
    "# 시뮬레이션에 따른 확률 그래프\n",
    "theta_arr = np.linspace(0, 2*pi, 20)\n",
    "Cress = getS(result_ideal.get_counts())\n",
    "plt.plot(theta_arr/pi, Cress, 'g', label = \"Simation\")\n",
    "\n",
    "\n",
    "'''\n",
    "# 양자 컴퓨터로 수행한 롹률 그래프\n",
    "plt.plot(theta_arr/pi, getS(result_real.get_counts()), 'xb', label = \"Experiment\")\n",
    "'''\n",
    "\n",
    "plt.legend(loc=\"center\")\n",
    "plt.savefig(\"MyCHSHTest.svg\")\n",
    "plt.ylabel(\"S\")\n",
    "plt.xlabel(\"Theta\")\n",
    "plt.show()"
   ]
  }
 ],
 "metadata": {
  "interpreter": {
   "hash": "27a9bf0a9ba9953446d34736fb6a54965fa84e25618090c488bbfe37455588ed"
  },
  "kernelspec": {
   "display_name": "Qiskit v0.32.1 (ipykernel)",
   "language": "python",
   "name": "python3"
  },
  "language_info": {
   "codemirror_mode": {
    "name": "ipython",
    "version": 3
   },
   "file_extension": ".py",
   "mimetype": "text/x-python",
   "name": "python",
   "nbconvert_exporter": "python",
   "pygments_lexer": "ipython3",
   "version": "3.8.10"
  },
  "widgets": {
   "application/vnd.jupyter.widget-state+json": {
    "state": {},
    "version_major": 2,
    "version_minor": 0
   }
  }
 },
 "nbformat": 4,
 "nbformat_minor": 4
}
